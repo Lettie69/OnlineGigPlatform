{
 "cells": [
  {
   "cell_type": "code",
   "execution_count": null,
   "id": "5d97d553-3e85-4bf1-b864-6c118a4daa86",
   "metadata": {},
   "outputs": [],
   "source": []
  },
  {
   "cell_type": "code",
   "execution_count": 2,
   "id": "65ad9387-3c43-4292-9fb3-5ad90ddbae35",
   "metadata": {},
   "outputs": [],
   "source": [
    "import pandas as pd\n",
    "\n",
    "# 读取Excel文件\n",
    "df = pd.read_excel('training_sample_sentence.xlsx')\n",
    "\n",
    "# 保留原始数据的第一列和表头\n",
    "first_column = df.iloc[:, [0]]\n",
    "\n",
    "# 随机抽取60条数据\n",
    "sampled_data = first_column.sample(n=60, random_state=1)\n",
    "\n",
    "# 生成新的数据表并保存为Excel文件\n",
    "sampled_data.to_excel('sampled_data.xlsx', index=False)"
   ]
  },
  {
   "cell_type": "code",
   "execution_count": 4,
   "id": "361e8631-ba5c-4931-95b2-89f696388e2a",
   "metadata": {},
   "outputs": [],
   "source": [
    "import pandas as pd\n",
    "\n",
    "# 读取Excel文件\n",
    "df = pd.read_excel('training_sample_sentence.xlsx')\n",
    "\n",
    "# 保留原始数据的第一列和表头\n",
    "first_column = df.iloc[:, [0]]\n",
    "\n",
    "# 随机抽取60条数据\n",
    "sampled_data = first_column.sample(n=60, random_state=1)\n",
    "\n",
    "# 创建包含新列的空数据框\n",
    "new_columns = ['Experience', 'Skill', 'Politeness', 'Confidence', \n",
    "               'Technology Support', 'Understanding', 'Job Fitness', 'Working Time']\n",
    "for col in new_columns:\n",
    "    sampled_data[col] = None  # 或者可以填入默认值，如0或空字符串\n",
    "\n",
    "# 生成新的数据表并保存为Excel文件\n",
    "sampled_data.to_excel('sampled_data_with_columns.xlsx', index=False)"
   ]
  }
 ],
 "metadata": {
  "kernelspec": {
   "display_name": "Python 3 (ipykernel)",
   "language": "python",
   "name": "python3"
  },
  "language_info": {
   "codemirror_mode": {
    "name": "ipython",
    "version": 3
   },
   "file_extension": ".py",
   "mimetype": "text/x-python",
   "name": "python",
   "nbconvert_exporter": "python",
   "pygments_lexer": "ipython3",
   "version": "3.12.4"
  }
 },
 "nbformat": 4,
 "nbformat_minor": 5
}
