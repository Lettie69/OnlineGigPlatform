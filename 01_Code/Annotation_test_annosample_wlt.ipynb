{
 "cells": [
  {
   "cell_type": "code",
   "execution_count": 2,
   "metadata": {},
   "outputs": [
    {
     "data": {
      "text/html": [
       "<div>\n",
       "<style scoped>\n",
       "    .dataframe tbody tr th:only-of-type {\n",
       "        vertical-align: middle;\n",
       "    }\n",
       "\n",
       "    .dataframe tbody tr th {\n",
       "        vertical-align: top;\n",
       "    }\n",
       "\n",
       "    .dataframe thead th {\n",
       "        text-align: right;\n",
       "    }\n",
       "</style>\n",
       "<table border=\"1\" class=\"dataframe\">\n",
       "  <thead>\n",
       "    <tr style=\"text-align: right;\">\n",
       "      <th></th>\n",
       "      <th>sentence_id</th>\n",
       "      <th>text</th>\n",
       "      <th>category</th>\n",
       "      <th>start_index</th>\n",
       "      <th>end_index</th>\n",
       "    </tr>\n",
       "  </thead>\n",
       "  <tbody>\n",
       "    <tr>\n",
       "      <th>0</th>\n",
       "      <td>1</td>\n",
       "      <td>absolutely confident</td>\n",
       "      <td>confidence</td>\n",
       "      <td>5</td>\n",
       "      <td>25</td>\n",
       "    </tr>\n",
       "    <tr>\n",
       "      <th>1</th>\n",
       "      <td>2</td>\n",
       "      <td>background in data analysis</td>\n",
       "      <td>job_fitness</td>\n",
       "      <td>3</td>\n",
       "      <td>27</td>\n",
       "    </tr>\n",
       "  </tbody>\n",
       "</table>\n",
       "</div>"
      ],
      "text/plain": [
       "   sentence_id                         text     category  start_index  \\\n",
       "0            1         absolutely confident   confidence            5   \n",
       "1            2  background in data analysis  job_fitness            3   \n",
       "\n",
       "   end_index  \n",
       "0         25  \n",
       "1         27  "
      ]
     },
     "execution_count": 2,
     "metadata": {},
     "output_type": "execute_result"
    }
   ],
   "source": [
    "#示例文本：\n",
    "\n",
    "#I am [absolutely confident]_{confidence} that I can deliver this project on time.\n",
    "#My [background in data analysis]_{job_fitness} makes me an ideal candidate.\n",
    "\n",
    "#转换为python对象，使用字典列表：\n",
    "\n",
    "import pandas as pd\n",
    "\n",
    "data = {\n",
    "    \"sentence_id\": [1, 2],\n",
    "    \"text\": [\"absolutely confident\", \"background in data analysis\"],\n",
    "    \"category\": [\"confidence\", \"job_fitness\"],\n",
    "    \"start_index\": [5, 3],\n",
    "    \"end_index\": [25, 27]\n",
    "}\n",
    "\n",
    "df = pd.DataFrame(data)\n",
    "df"
   ]
  },
  {
   "cell_type": "code",
   "execution_count": null,
   "metadata": {},
   "outputs": [],
   "source": [
    "#注释：\n",
    "#Text：被标注的文本片段。\n",
    "#Category：该文本片段对应的标注类别。\n",
    "#Start Index：该文本片段在原始文本中的起始位置索引。\n",
    "#End Index：该文本片段在原始文本中的结束位置索引。"
   ]
  }
 ],
 "metadata": {
  "kernelspec": {
   "display_name": "Python 3 (ipykernel)",
   "language": "python",
   "name": "python3"
  },
  "language_info": {
   "codemirror_mode": {
    "name": "ipython",
    "version": 3
   },
   "file_extension": ".py",
   "mimetype": "text/x-python",
   "name": "python",
   "nbconvert_exporter": "python",
   "pygments_lexer": "ipython3",
   "version": "3.12.4"
  }
 },
 "nbformat": 4,
 "nbformat_minor": 4
}
