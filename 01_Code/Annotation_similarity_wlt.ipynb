{
 "cells": [
  {
   "cell_type": "markdown",
   "id": "1603e65d-17ca-4893-b069-4f7a2ace5e66",
   "metadata": {},
   "source": [
    "# 方法1"
   ]
  },
  {
   "cell_type": "code",
   "execution_count": 1,
   "id": "48344dc5-3068-4748-87c7-a9acee266366",
   "metadata": {},
   "outputs": [
    {
     "name": "stdout",
     "output_type": "stream",
     "text": [
      "                                   sampled_data_lrf.xlsx  \\\n",
      "sampled_data_lrf.xlsx                                NaN   \n",
      "sampled_data_with_columns_wlt.xlsx               0.80312   \n",
      "sampled_data_with_columns_zjl.xlsx              0.657961   \n",
      "\n",
      "                                   sampled_data_with_columns_wlt.xlsx  \\\n",
      "sampled_data_lrf.xlsx                                         0.80312   \n",
      "sampled_data_with_columns_wlt.xlsx                                NaN   \n",
      "sampled_data_with_columns_zjl.xlsx                           0.969967   \n",
      "\n",
      "                                   sampled_data_with_columns_zjl.xlsx  \n",
      "sampled_data_lrf.xlsx                                        0.657961  \n",
      "sampled_data_with_columns_wlt.xlsx                           0.969967  \n",
      "sampled_data_with_columns_zjl.xlsx                                NaN  \n"
     ]
    }
   ],
   "source": [
    "import pandas as pd\n",
    "import numpy as np\n",
    "import os\n",
    "from scipy.spatial.distance import cosine\n",
    "\n",
    "# 获取当前目录\n",
    "current_directory = os.getcwd()\n",
    "\n",
    "# 找到所有包含 'training_sample_sentence' 的 Excel 文件\n",
    "excel_files = [f for f in os.listdir(current_directory) if 'sampled_data' in f and f.endswith('.xlsx')]\n",
    "\n",
    "# 初始化一个字典来存储每个文件的数据\n",
    "data_dict = {}\n",
    "\n",
    "# 读取每个 Excel 文件\n",
    "for file in excel_files:\n",
    "    df = pd.read_excel(file)\n",
    "    # 选择数值型列并处理缺失值\n",
    "    numeric_df = df[['Experience', 'Skill', 'Politeness', 'Confidence', 'Technology Support', 'Understanding', 'Job Fitness', 'Working Time']].apply(pd.to_numeric, errors='coerce')\n",
    "    data_dict[file] = numeric_df.dropna()  # 删除缺失值的行\n",
    "\n",
    "# 计算相似度\n",
    "similarity_matrix = pd.DataFrame(index=data_dict.keys(), columns=data_dict.keys())\n",
    "\n",
    "for file1 in data_dict.keys():\n",
    "    for file2 in data_dict.keys():\n",
    "        if file1 != file2:\n",
    "            # 计算余弦相似度\n",
    "            mean1 = data_dict[file1].mean()\n",
    "            mean2 = data_dict[file2].mean()\n",
    "            similarity = 1 - cosine(mean1, mean2)\n",
    "            similarity_matrix.loc[file1, file2] = similarity\n",
    "\n",
    "print(similarity_matrix)"
   ]
  },
  {
   "cell_type": "code",
   "execution_count": null,
   "id": "34b67fb8-4a69-4e13-832e-1ba2b9fb4a8e",
   "metadata": {},
   "outputs": [],
   "source": []
  },
  {
   "cell_type": "code",
   "execution_count": null,
   "id": "818b6f53-bbb1-4268-a0e7-71797079a12a",
   "metadata": {},
   "outputs": [],
   "source": []
  },
  {
   "cell_type": "code",
   "execution_count": 2,
   "id": "a9e5e771-7c50-412f-9cbc-4c389db2dc51",
   "metadata": {},
   "outputs": [
    {
     "data": {
      "text/html": [
       "<div>\n",
       "<style scoped>\n",
       "    .dataframe tbody tr th:only-of-type {\n",
       "        vertical-align: middle;\n",
       "    }\n",
       "\n",
       "    .dataframe tbody tr th {\n",
       "        vertical-align: top;\n",
       "    }\n",
       "\n",
       "    .dataframe thead th {\n",
       "        text-align: right;\n",
       "    }\n",
       "</style>\n",
       "<table border=\"1\" class=\"dataframe\">\n",
       "  <thead>\n",
       "    <tr style=\"text-align: right;\">\n",
       "      <th></th>\n",
       "      <th>sampled_data_lrf.xlsx</th>\n",
       "      <th>sampled_data_with_columns_wlt.xlsx</th>\n",
       "      <th>sampled_data_with_columns_zjl.xlsx</th>\n",
       "    </tr>\n",
       "  </thead>\n",
       "  <tbody>\n",
       "    <tr>\n",
       "      <th>sampled_data_lrf.xlsx</th>\n",
       "      <td>NaN</td>\n",
       "      <td>0.80312</td>\n",
       "      <td>0.657961</td>\n",
       "    </tr>\n",
       "    <tr>\n",
       "      <th>sampled_data_with_columns_wlt.xlsx</th>\n",
       "      <td>0.80312</td>\n",
       "      <td>NaN</td>\n",
       "      <td>0.969967</td>\n",
       "    </tr>\n",
       "    <tr>\n",
       "      <th>sampled_data_with_columns_zjl.xlsx</th>\n",
       "      <td>0.657961</td>\n",
       "      <td>0.969967</td>\n",
       "      <td>NaN</td>\n",
       "    </tr>\n",
       "  </tbody>\n",
       "</table>\n",
       "</div>"
      ],
      "text/plain": [
       "                                   sampled_data_lrf.xlsx  \\\n",
       "sampled_data_lrf.xlsx                                NaN   \n",
       "sampled_data_with_columns_wlt.xlsx               0.80312   \n",
       "sampled_data_with_columns_zjl.xlsx              0.657961   \n",
       "\n",
       "                                   sampled_data_with_columns_wlt.xlsx  \\\n",
       "sampled_data_lrf.xlsx                                         0.80312   \n",
       "sampled_data_with_columns_wlt.xlsx                                NaN   \n",
       "sampled_data_with_columns_zjl.xlsx                           0.969967   \n",
       "\n",
       "                                   sampled_data_with_columns_zjl.xlsx  \n",
       "sampled_data_lrf.xlsx                                        0.657961  \n",
       "sampled_data_with_columns_wlt.xlsx                           0.969967  \n",
       "sampled_data_with_columns_zjl.xlsx                                NaN  "
      ]
     },
     "execution_count": 2,
     "metadata": {},
     "output_type": "execute_result"
    }
   ],
   "source": [
    "similarity_matrix"
   ]
  },
  {
   "cell_type": "markdown",
   "id": "50d6d2ad-2711-425f-9bc7-ff2a2be8edb1",
   "metadata": {},
   "source": [
    "# 方法2"
   ]
  },
  {
   "cell_type": "code",
   "execution_count": 8,
   "id": "8db27311-9277-4ba2-94ae-fd90c22b0f19",
   "metadata": {},
   "outputs": [
    {
     "ename": "InvalidParameterError",
     "evalue": "The 'dense_output' parameter of cosine_similarity must be an instance of 'bool', an instance of 'numpy.bool_' or an instance of 'int'. Got array([[0.        , 0.        , 1.        , 1.        , 0.        ,\n        0.        , 1.        , 0.        , 0.        , 0.        ,\n        1.        , 0.        , 0.        , 0.        , 0.        ,\n        0.        , 0.        , 0.        , 0.        , 0.        ,\n        1.        , 0.        , 0.        , 0.        , 0.        ,\n        0.        , 1.        , 0.        , 0.        , 0.        ,\n        0.        , 0.        , 0.        , 0.        , 1.        ,\n        0.        , 0.        , 0.        , 0.        , 0.        ,\n        1.        , 1.        , 1.        , 1.        , 1.        ,\n        0.        , 1.        , 0.        , 0.        , 0.        ,\n        0.        , 0.        , 0.        , 0.        , 0.        ,\n        0.        , 0.        , 0.        , 1.        , 0.        ,\n        0.        , 0.        , 0.        , 0.        , 0.        ,\n        1.        , 0.        , 1.        , 1.        , 1.        ,\n        1.        , 0.        , 0.        , 0.        , 0.        ,\n        0.        , 0.        , 0.        , 0.        , 0.        ,\n        1.        , 1.        , 0.        , 1.        , 1.        ,\n        0.        , 0.        , 0.        , 1.        , 1.        ,\n        1.        , 1.        , 0.        , 1.        , 1.        ,\n        0.        , 0.        , 0.        , 1.        , 0.        ,\n        0.        , 0.        , 0.        , 0.        , 0.        ,\n        0.        , 1.        , 0.        , 0.        , 0.        ,\n        0.        , 0.        , 0.        , 0.        , 0.        ,\n        0.        , 0.        , 0.        , 0.        , 0.        ,\n        1.        , 0.        , 0.        , 1.        , 1.        ,\n        0.        , 0.        , 0.        , 1.        , 0.        ,\n        0.        , 0.        , 0.        , 0.        , 0.        ,\n        0.        , 0.        , 0.        , 1.        , 1.        ,\n        0.        , 1.        , 1.        , 0.        , 1.        ,\n        0.        , 0.        , 0.        , 0.        , 0.        ,\n        0.        , 0.        , 0.        , 0.        , 0.        ,\n        1.        , 0.        , 0.        , 0.        , 0.        ,\n        0.        , 0.        , 0.        , 0.        , 1.        ,\n        1.        , 1.        , 0.        , 0.        , 0.        ,\n        1.        , 1.        , 0.        , 1.        , 0.        ,\n        0.        , 0.        , 0.        , 1.        , 1.        ,\n        0.        , 1.        , 0.        , 0.        , 0.        ,\n        0.        , 0.        , 1.        , 1.        , 1.        ,\n        0.26785714, 0.        , 0.        , 0.        , 0.        ,\n        1.        , 0.        , 1.        , 0.        , 0.        ,\n        0.        , 0.        , 0.        , 0.        , 0.        ,\n        1.        , 0.        , 0.        , 1.        , 0.        ,\n        0.        , 1.        , 1.        , 1.        , 1.        ,\n        0.        , 1.        , 0.        , 0.        , 0.        ,\n        0.        , 0.        , 0.        , 0.        , 0.        ,\n        0.        , 0.        , 0.        , 1.        , 0.        ,\n        0.        , 0.        , 0.        , 0.        , 1.        ,\n        0.        , 0.        , 0.        , 0.        , 0.        ,\n        0.        , 0.        , 1.        , 0.        , 0.        ,\n        0.        , 0.        , 0.        , 0.        , 0.        ,\n        0.        , 0.        , 0.        , 0.        , 1.        ,\n        1.        , 0.        , 0.        , 0.        , 0.        ,\n        0.        , 0.        , 0.        , 0.        , 0.        ,\n        0.        , 0.        , 0.        , 0.        , 0.        ,\n        0.        , 0.        , 1.        , 0.        , 0.        ,\n        0.        , 0.        , 0.        , 0.        , 0.        ,\n        0.        , 0.        , 1.        , 0.        , 0.        ,\n        1.        , 1.        , 0.        , 0.        , 0.        ,\n        0.        , 1.        , 0.        , 1.        , 0.        ,\n        0.        , 0.        , 0.        , 0.        , 1.        ,\n        1.        , 1.        , 1.        , 0.        , 1.        ,\n        0.        , 0.        , 0.        , 1.        , 0.38596491,\n        0.        , 0.        , 0.        , 0.        , 1.        ,\n        0.        , 0.        , 1.        , 0.26785714, 0.        ,\n        1.        , 1.        , 0.        , 1.        , 1.        ,\n        0.        , 0.        , 0.        , 1.        , 1.        ,\n        1.        , 1.        , 1.        , 1.        , 1.        ,\n        0.        , 1.        , 1.        , 0.        , 1.        ,\n        1.        , 0.        , 0.        , 0.        , 1.        ,\n        1.        , 0.        , 1.        , 1.        , 0.        ,\n        0.        , 0.        , 0.        , 1.        , 0.38596491,\n        0.44642857, 1.        , 1.        , 0.        , 0.        ,\n        0.        , 0.        , 1.        , 0.        , 0.        ,\n        0.        , 0.        , 0.        , 0.        , 0.        ,\n        0.        , 1.        , 0.36842105, 1.        , 1.        ,\n        0.        , 1.        , 1.        , 1.        , 1.        ,\n        1.        , 1.        , 1.        , 0.        , 0.        ,\n        0.        , 1.        , 0.44642857, 0.        , 0.        ,\n        0.        , 0.        , 1.        , 1.        , 0.        ,\n        1.        , 1.        , 1.        , 1.        , 0.        ,\n        1.        , 1.        , 0.        , 0.        , 1.        ,\n        0.        , 0.        , 0.        , 0.34482759, 0.24137931,\n        0.38596491, 0.44642857, 0.36842105, 0.38596491, 0.26785714,\n        0.01724138, 1.        , 1.        , 0.        , 1.        ,\n        1.        , 0.        , 0.        , 0.        , 1.        ,\n        1.        , 0.        , 1.        , 0.        , 0.        ,\n        0.        , 0.        , 0.34482759, 0.24137931, 0.38596491,\n        0.44642857, 0.36842105, 0.38596491, 0.26785714, 0.01724138,\n        0.        , 0.        , 1.        , 0.        , 0.        ,\n        1.        , 0.        , 0.        , 0.        , 0.        ,\n        0.        , 0.        , 0.        , 0.        , 0.        ,\n        0.        , 0.        , 0.        , 1.        , 1.        ,\n        1.        , 1.        , 1.        , 0.        , 0.        ,\n        0.        , 0.        , 0.        , 0.        , 1.        ,\n        0.        , 0.        , 1.        , 0.        , 0.        ,\n        0.        , 0.        , 0.        , 0.        , 0.        ]]) instead.",
     "output_type": "error",
     "traceback": [
      "\u001b[1;31m---------------------------------------------------------------------------\u001b[0m",
      "\u001b[1;31mInvalidParameterError\u001b[0m                     Traceback (most recent call last)",
      "Cell \u001b[1;32mIn[8], line 36\u001b[0m\n\u001b[0;32m     33\u001b[0m             vector_k \u001b[38;5;241m=\u001b[39m dfs[k]\u001b[38;5;241m.\u001b[39mvalues\u001b[38;5;241m.\u001b[39mflatten()\u001b[38;5;241m.\u001b[39mreshape(\u001b[38;5;241m1\u001b[39m, \u001b[38;5;241m-\u001b[39m\u001b[38;5;241m1\u001b[39m)\n\u001b[0;32m     35\u001b[0m         \u001b[38;5;66;03m# Calculate cosine similarity\u001b[39;00m\n\u001b[1;32m---> 36\u001b[0m         sim \u001b[38;5;241m=\u001b[39m cosine_similarity(vector_i, vector_j, vector_k)[\u001b[38;5;241m0\u001b[39m][\u001b[38;5;241m0\u001b[39m][\u001b[38;5;241m0\u001b[39m]\n\u001b[0;32m     37\u001b[0m         similarities\u001b[38;5;241m.\u001b[39mappend((i, j, k,sim))\n\u001b[0;32m     39\u001b[0m similarities_df \u001b[38;5;241m=\u001b[39m pd\u001b[38;5;241m.\u001b[39mDataFrame(similarities, columns\u001b[38;5;241m=\u001b[39m[\u001b[38;5;124m\"\u001b[39m\u001b[38;5;124mAnnotator 1\u001b[39m\u001b[38;5;124m\"\u001b[39m, \u001b[38;5;124m\"\u001b[39m\u001b[38;5;124mAnnotator 2\u001b[39m\u001b[38;5;124m\"\u001b[39m,\u001b[38;5;124m\"\u001b[39m\u001b[38;5;124mAnnotator 3\u001b[39m\u001b[38;5;124m\"\u001b[39m, \u001b[38;5;124m\"\u001b[39m\u001b[38;5;124mSimilarity\u001b[39m\u001b[38;5;124m\"\u001b[39m])\n",
      "File \u001b[1;32m~\\anaconda3\\Lib\\site-packages\\sklearn\\utils\\_param_validation.py:201\u001b[0m, in \u001b[0;36mvalidate_params.<locals>.decorator.<locals>.wrapper\u001b[1;34m(*args, **kwargs)\u001b[0m\n\u001b[0;32m    198\u001b[0m to_ignore \u001b[38;5;241m+\u001b[39m\u001b[38;5;241m=\u001b[39m [\u001b[38;5;124m\"\u001b[39m\u001b[38;5;124mself\u001b[39m\u001b[38;5;124m\"\u001b[39m, \u001b[38;5;124m\"\u001b[39m\u001b[38;5;124mcls\u001b[39m\u001b[38;5;124m\"\u001b[39m]\n\u001b[0;32m    199\u001b[0m params \u001b[38;5;241m=\u001b[39m {k: v \u001b[38;5;28;01mfor\u001b[39;00m k, v \u001b[38;5;129;01min\u001b[39;00m params\u001b[38;5;241m.\u001b[39marguments\u001b[38;5;241m.\u001b[39mitems() \u001b[38;5;28;01mif\u001b[39;00m k \u001b[38;5;129;01mnot\u001b[39;00m \u001b[38;5;129;01min\u001b[39;00m to_ignore}\n\u001b[1;32m--> 201\u001b[0m validate_parameter_constraints(\n\u001b[0;32m    202\u001b[0m     parameter_constraints, params, caller_name\u001b[38;5;241m=\u001b[39mfunc\u001b[38;5;241m.\u001b[39m\u001b[38;5;18m__qualname__\u001b[39m\n\u001b[0;32m    203\u001b[0m )\n\u001b[0;32m    205\u001b[0m \u001b[38;5;28;01mtry\u001b[39;00m:\n\u001b[0;32m    206\u001b[0m     \u001b[38;5;28;01mwith\u001b[39;00m config_context(\n\u001b[0;32m    207\u001b[0m         skip_parameter_validation\u001b[38;5;241m=\u001b[39m(\n\u001b[0;32m    208\u001b[0m             prefer_skip_nested_validation \u001b[38;5;129;01mor\u001b[39;00m global_skip_validation\n\u001b[0;32m    209\u001b[0m         )\n\u001b[0;32m    210\u001b[0m     ):\n",
      "File \u001b[1;32m~\\anaconda3\\Lib\\site-packages\\sklearn\\utils\\_param_validation.py:95\u001b[0m, in \u001b[0;36mvalidate_parameter_constraints\u001b[1;34m(parameter_constraints, params, caller_name)\u001b[0m\n\u001b[0;32m     89\u001b[0m \u001b[38;5;28;01melse\u001b[39;00m:\n\u001b[0;32m     90\u001b[0m     constraints_str \u001b[38;5;241m=\u001b[39m (\n\u001b[0;32m     91\u001b[0m         \u001b[38;5;124mf\u001b[39m\u001b[38;5;124m\"\u001b[39m\u001b[38;5;132;01m{\u001b[39;00m\u001b[38;5;124m'\u001b[39m\u001b[38;5;124m, \u001b[39m\u001b[38;5;124m'\u001b[39m\u001b[38;5;241m.\u001b[39mjoin([\u001b[38;5;28mstr\u001b[39m(c)\u001b[38;5;250m \u001b[39m\u001b[38;5;28;01mfor\u001b[39;00m\u001b[38;5;250m \u001b[39mc\u001b[38;5;250m \u001b[39m\u001b[38;5;129;01min\u001b[39;00m\u001b[38;5;250m \u001b[39mconstraints[:\u001b[38;5;241m-\u001b[39m\u001b[38;5;241m1\u001b[39m]])\u001b[38;5;132;01m}\u001b[39;00m\u001b[38;5;124m or\u001b[39m\u001b[38;5;124m\"\u001b[39m\n\u001b[0;32m     92\u001b[0m         \u001b[38;5;124mf\u001b[39m\u001b[38;5;124m\"\u001b[39m\u001b[38;5;124m \u001b[39m\u001b[38;5;132;01m{\u001b[39;00mconstraints[\u001b[38;5;241m-\u001b[39m\u001b[38;5;241m1\u001b[39m]\u001b[38;5;132;01m}\u001b[39;00m\u001b[38;5;124m\"\u001b[39m\n\u001b[0;32m     93\u001b[0m     )\n\u001b[1;32m---> 95\u001b[0m \u001b[38;5;28;01mraise\u001b[39;00m InvalidParameterError(\n\u001b[0;32m     96\u001b[0m     \u001b[38;5;124mf\u001b[39m\u001b[38;5;124m\"\u001b[39m\u001b[38;5;124mThe \u001b[39m\u001b[38;5;132;01m{\u001b[39;00mparam_name\u001b[38;5;132;01m!r}\u001b[39;00m\u001b[38;5;124m parameter of \u001b[39m\u001b[38;5;132;01m{\u001b[39;00mcaller_name\u001b[38;5;132;01m}\u001b[39;00m\u001b[38;5;124m must be\u001b[39m\u001b[38;5;124m\"\u001b[39m\n\u001b[0;32m     97\u001b[0m     \u001b[38;5;124mf\u001b[39m\u001b[38;5;124m\"\u001b[39m\u001b[38;5;124m \u001b[39m\u001b[38;5;132;01m{\u001b[39;00mconstraints_str\u001b[38;5;132;01m}\u001b[39;00m\u001b[38;5;124m. Got \u001b[39m\u001b[38;5;132;01m{\u001b[39;00mparam_val\u001b[38;5;132;01m!r}\u001b[39;00m\u001b[38;5;124m instead.\u001b[39m\u001b[38;5;124m\"\u001b[39m\n\u001b[0;32m     98\u001b[0m )\n",
      "\u001b[1;31mInvalidParameterError\u001b[0m: The 'dense_output' parameter of cosine_similarity must be an instance of 'bool', an instance of 'numpy.bool_' or an instance of 'int'. Got array([[0.        , 0.        , 1.        , 1.        , 0.        ,\n        0.        , 1.        , 0.        , 0.        , 0.        ,\n        1.        , 0.        , 0.        , 0.        , 0.        ,\n        0.        , 0.        , 0.        , 0.        , 0.        ,\n        1.        , 0.        , 0.        , 0.        , 0.        ,\n        0.        , 1.        , 0.        , 0.        , 0.        ,\n        0.        , 0.        , 0.        , 0.        , 1.        ,\n        0.        , 0.        , 0.        , 0.        , 0.        ,\n        1.        , 1.        , 1.        , 1.        , 1.        ,\n        0.        , 1.        , 0.        , 0.        , 0.        ,\n        0.        , 0.        , 0.        , 0.        , 0.        ,\n        0.        , 0.        , 0.        , 1.        , 0.        ,\n        0.        , 0.        , 0.        , 0.        , 0.        ,\n        1.        , 0.        , 1.        , 1.        , 1.        ,\n        1.        , 0.        , 0.        , 0.        , 0.        ,\n        0.        , 0.        , 0.        , 0.        , 0.        ,\n        1.        , 1.        , 0.        , 1.        , 1.        ,\n        0.        , 0.        , 0.        , 1.        , 1.        ,\n        1.        , 1.        , 0.        , 1.        , 1.        ,\n        0.        , 0.        , 0.        , 1.        , 0.        ,\n        0.        , 0.        , 0.        , 0.        , 0.        ,\n        0.        , 1.        , 0.        , 0.        , 0.        ,\n        0.        , 0.        , 0.        , 0.        , 0.        ,\n        0.        , 0.        , 0.        , 0.        , 0.        ,\n        1.        , 0.        , 0.        , 1.        , 1.        ,\n        0.        , 0.        , 0.        , 1.        , 0.        ,\n        0.        , 0.        , 0.        , 0.        , 0.        ,\n        0.        , 0.        , 0.        , 1.        , 1.        ,\n        0.        , 1.        , 1.        , 0.        , 1.        ,\n        0.        , 0.        , 0.        , 0.        , 0.        ,\n        0.        , 0.        , 0.        , 0.        , 0.        ,\n        1.        , 0.        , 0.        , 0.        , 0.        ,\n        0.        , 0.        , 0.        , 0.        , 1.        ,\n        1.        , 1.        , 0.        , 0.        , 0.        ,\n        1.        , 1.        , 0.        , 1.        , 0.        ,\n        0.        , 0.        , 0.        , 1.        , 1.        ,\n        0.        , 1.        , 0.        , 0.        , 0.        ,\n        0.        , 0.        , 1.        , 1.        , 1.        ,\n        0.26785714, 0.        , 0.        , 0.        , 0.        ,\n        1.        , 0.        , 1.        , 0.        , 0.        ,\n        0.        , 0.        , 0.        , 0.        , 0.        ,\n        1.        , 0.        , 0.        , 1.        , 0.        ,\n        0.        , 1.        , 1.        , 1.        , 1.        ,\n        0.        , 1.        , 0.        , 0.        , 0.        ,\n        0.        , 0.        , 0.        , 0.        , 0.        ,\n        0.        , 0.        , 0.        , 1.        , 0.        ,\n        0.        , 0.        , 0.        , 0.        , 1.        ,\n        0.        , 0.        , 0.        , 0.        , 0.        ,\n        0.        , 0.        , 1.        , 0.        , 0.        ,\n        0.        , 0.        , 0.        , 0.        , 0.        ,\n        0.        , 0.        , 0.        , 0.        , 1.        ,\n        1.        , 0.        , 0.        , 0.        , 0.        ,\n        0.        , 0.        , 0.        , 0.        , 0.        ,\n        0.        , 0.        , 0.        , 0.        , 0.        ,\n        0.        , 0.        , 1.        , 0.        , 0.        ,\n        0.        , 0.        , 0.        , 0.        , 0.        ,\n        0.        , 0.        , 1.        , 0.        , 0.        ,\n        1.        , 1.        , 0.        , 0.        , 0.        ,\n        0.        , 1.        , 0.        , 1.        , 0.        ,\n        0.        , 0.        , 0.        , 0.        , 1.        ,\n        1.        , 1.        , 1.        , 0.        , 1.        ,\n        0.        , 0.        , 0.        , 1.        , 0.38596491,\n        0.        , 0.        , 0.        , 0.        , 1.        ,\n        0.        , 0.        , 1.        , 0.26785714, 0.        ,\n        1.        , 1.        , 0.        , 1.        , 1.        ,\n        0.        , 0.        , 0.        , 1.        , 1.        ,\n        1.        , 1.        , 1.        , 1.        , 1.        ,\n        0.        , 1.        , 1.        , 0.        , 1.        ,\n        1.        , 0.        , 0.        , 0.        , 1.        ,\n        1.        , 0.        , 1.        , 1.        , 0.        ,\n        0.        , 0.        , 0.        , 1.        , 0.38596491,\n        0.44642857, 1.        , 1.        , 0.        , 0.        ,\n        0.        , 0.        , 1.        , 0.        , 0.        ,\n        0.        , 0.        , 0.        , 0.        , 0.        ,\n        0.        , 1.        , 0.36842105, 1.        , 1.        ,\n        0.        , 1.        , 1.        , 1.        , 1.        ,\n        1.        , 1.        , 1.        , 0.        , 0.        ,\n        0.        , 1.        , 0.44642857, 0.        , 0.        ,\n        0.        , 0.        , 1.        , 1.        , 0.        ,\n        1.        , 1.        , 1.        , 1.        , 0.        ,\n        1.        , 1.        , 0.        , 0.        , 1.        ,\n        0.        , 0.        , 0.        , 0.34482759, 0.24137931,\n        0.38596491, 0.44642857, 0.36842105, 0.38596491, 0.26785714,\n        0.01724138, 1.        , 1.        , 0.        , 1.        ,\n        1.        , 0.        , 0.        , 0.        , 1.        ,\n        1.        , 0.        , 1.        , 0.        , 0.        ,\n        0.        , 0.        , 0.34482759, 0.24137931, 0.38596491,\n        0.44642857, 0.36842105, 0.38596491, 0.26785714, 0.01724138,\n        0.        , 0.        , 1.        , 0.        , 0.        ,\n        1.        , 0.        , 0.        , 0.        , 0.        ,\n        0.        , 0.        , 0.        , 0.        , 0.        ,\n        0.        , 0.        , 0.        , 1.        , 1.        ,\n        1.        , 1.        , 1.        , 0.        , 0.        ,\n        0.        , 0.        , 0.        , 0.        , 1.        ,\n        0.        , 0.        , 1.        , 0.        , 0.        ,\n        0.        , 0.        , 0.        , 0.        , 0.        ]]) instead."
     ]
    }
   ],
   "source": [
    "import os\n",
    "import pandas as pd\n",
    "from glob import glob\n",
    "from sklearn.metrics.pairwise import cosine_similarity\n",
    "import numpy as np\n",
    "\n",
    "# Get the list of Excel files in the current directory with \"training_sample_sentence\" in their names\n",
    "files = glob(\"*sampled_data*.xlsx\")\n",
    "\n",
    "# Read all worksheets from the Excel files into a list of DataFrames\n",
    "dfs = []\n",
    "for file in files:\n",
    "    xls = pd.ExcelFile(file)\n",
    "    for sheet_name in xls.sheet_names:\n",
    "        df = pd.read_excel(xls, sheet_name=sheet_name)\n",
    "        # Ensure only the columns of interest are included\n",
    "        df = df[['Experience', 'Skill', 'Politeness', 'Confidence', 'Technology Support', 'Understanding', 'Job Fitness', 'Working Time']]\n",
    "        dfs.append(df)\n",
    "\n",
    "# Clean the data: Convert non-numeric values to NaN and then fill NaN with the mean of the column\n",
    "for i in range(len(dfs)):\n",
    "    dfs[i] = dfs[i].apply(pd.to_numeric, errors='coerce')  # Convert to numeric, forcing errors to NaN\n",
    "    dfs[i] = dfs[i].fillna(dfs[i].mean())  # Fill NaN with the mean of the column\n",
    "    \n",
    "# Calculate the similarity between all pairs of annotations\n",
    "similarities = []\n",
    "for i in range(len(dfs)):\n",
    "    for j in range(i+1, len(dfs)):\n",
    "        for k in range(j+1, len(dfs)):\n",
    "            # Flatten the dataframes to 1D vectors\n",
    "            vector_i = dfs[i].values.flatten().reshape(1, -1)\n",
    "            vector_j = dfs[j].values.flatten().reshape(1, -1)\n",
    "            vector_k = dfs[k].values.flatten().reshape(1, -1)\n",
    "        \n",
    "        # Calculate cosine similarity\n",
    "        sim = cosine_similarity(vector_i, vector_j, vector_k)[0][0][0]\n",
    "        similarities.append((i, j, k,sim))\n",
    "\n",
    "similarities_df = pd.DataFrame(similarities, columns=[\"Annotator 1\", \"Annotator 2\",\"Annotator 3\", \"Similarity\"])\n",
    "similarities_df\n"
   ]
  },
  {
   "cell_type": "code",
   "execution_count": 6,
   "id": "4b234e9a-e650-4fdd-b17f-fd241dcb5167",
   "metadata": {},
   "outputs": [
    {
     "data": {
      "text/plain": [
       "4"
      ]
     },
     "execution_count": 6,
     "metadata": {},
     "output_type": "execute_result"
    }
   ],
   "source": [
    "len(dfs)"
   ]
  },
  {
   "cell_type": "code",
   "execution_count": 1,
   "id": "fbde46d3-fcf7-4c2a-97be-49c938f1b08b",
   "metadata": {},
   "outputs": [
    {
     "data": {
      "text/html": [
       "<div>\n",
       "<style scoped>\n",
       "    .dataframe tbody tr th:only-of-type {\n",
       "        vertical-align: middle;\n",
       "    }\n",
       "\n",
       "    .dataframe tbody tr th {\n",
       "        vertical-align: top;\n",
       "    }\n",
       "\n",
       "    .dataframe thead th {\n",
       "        text-align: right;\n",
       "    }\n",
       "</style>\n",
       "<table border=\"1\" class=\"dataframe\">\n",
       "  <thead>\n",
       "    <tr style=\"text-align: right;\">\n",
       "      <th></th>\n",
       "      <th>Annotator 1</th>\n",
       "      <th>Annotator 2</th>\n",
       "      <th>Similarity</th>\n",
       "    </tr>\n",
       "  </thead>\n",
       "  <tbody>\n",
       "    <tr>\n",
       "      <th>0</th>\n",
       "      <td>0</td>\n",
       "      <td>1</td>\n",
       "      <td>0.530330</td>\n",
       "    </tr>\n",
       "    <tr>\n",
       "      <th>1</th>\n",
       "      <td>0</td>\n",
       "      <td>2</td>\n",
       "      <td>0.558091</td>\n",
       "    </tr>\n",
       "    <tr>\n",
       "      <th>2</th>\n",
       "      <td>1</td>\n",
       "      <td>2</td>\n",
       "      <td>0.661876</td>\n",
       "    </tr>\n",
       "  </tbody>\n",
       "</table>\n",
       "</div>"
      ],
      "text/plain": [
       "   Annotator 1  Annotator 2  Similarity\n",
       "0            0            1    0.530330\n",
       "1            0            2    0.558091\n",
       "2            1            2    0.661876"
      ]
     },
     "execution_count": 1,
     "metadata": {},
     "output_type": "execute_result"
    }
   ],
   "source": [
    "import os\n",
    "import pandas as pd\n",
    "from glob import glob\n",
    "from sklearn.metrics.pairwise import cosine_similarity\n",
    "import numpy as np\n",
    "\n",
    "# Get the list of Excel files in the current directory with \"sampled_data\" in their names\n",
    "files = glob(\"*sampled_data*.xlsx\")\n",
    "\n",
    "# Read all worksheets from the Excel files into a list of DataFrames\n",
    "dfs = []\n",
    "for file in files:\n",
    "    xls = pd.ExcelFile(file)\n",
    "    for sheet_name in xls.sheet_names:\n",
    "        df = pd.read_excel(xls, sheet_name=sheet_name)\n",
    "        # Ensure only the columns of interest are included\n",
    "        df = df[['Experience', 'Skill', 'Politeness', 'Confidence', 'Technology Support', 'Understanding', 'Job Fitness', 'Working Time']]\n",
    "        dfs.append(df)\n",
    "\n",
    "# Clean the data: Convert non-numeric values to NaN and then fill NaN with the mean of the column\n",
    "for i in range(len(dfs)):\n",
    "    dfs[i] = dfs[i].apply(pd.to_numeric, errors='coerce')  # Convert to numeric, forcing errors to NaN\n",
    "    dfs[i] = dfs[i].fillna(dfs[i].mean())  # Fill NaN with the mean of the column\n",
    "    \n",
    "# Calculate the similarity between all pairs of annotations\n",
    "similarities = []\n",
    "for i in range(len(dfs)):\n",
    "    for j in range(i+1, len(dfs)):\n",
    "        # Flatten the dataframes to 1D vectors\n",
    "        vector_i = dfs[i].values.flatten().reshape(1, -1)\n",
    "        vector_j = dfs[j].values.flatten().reshape(1, -1)\n",
    "        \n",
    "        # Calculate cosine similarity\n",
    "        sim = cosine_similarity(vector_i, vector_j)[0][0]\n",
    "        similarities.append((i, j, sim))\n",
    "\n",
    "# Convert results to DataFrame for clarity\n",
    "similarities_df = pd.DataFrame(similarities, columns=[\"Annotator 1\", \"Annotator 2\", \"Similarity\"])\n",
    "similarities_df\n"
   ]
  },
  {
   "cell_type": "code",
   "execution_count": null,
   "id": "fd73b0c0-04e9-4a83-b467-373ccc1a0feb",
   "metadata": {},
   "outputs": [],
   "source": []
  }
 ],
 "metadata": {
  "kernelspec": {
   "display_name": "Python 3 (ipykernel)",
   "language": "python",
   "name": "python3"
  },
  "language_info": {
   "codemirror_mode": {
    "name": "ipython",
    "version": 3
   },
   "file_extension": ".py",
   "mimetype": "text/x-python",
   "name": "python",
   "nbconvert_exporter": "python",
   "pygments_lexer": "ipython3",
   "version": "3.12.4"
  }
 },
 "nbformat": 4,
 "nbformat_minor": 5
}
